{
 "cells": [
  {
   "cell_type": "code",
   "execution_count": null,
   "metadata": {},
   "outputs": [],
   "source": [
    "import os\n",
    "import glob\n",
    "import pandas as pd\n",
    "import numpy as np\n",
    "import matplotlib as mpl\n",
    "import matplotlib.pyplot as plt\n",
    "from collections import Counter\n",
    "import pickle"
   ]
  },
  {
   "cell_type": "code",
   "execution_count": null,
   "metadata": {},
   "outputs": [],
   "source": [
    "def load_data(file, year):\n",
    "    \n",
    "    '''\n",
    "    \n",
    "    Loading PROMICE data for a given station and all or given year(s)\n",
    "    into a DataFrame. \n",
    "    \n",
    "    \n",
    "    INTPUTS:\n",
    "        file: Path to the desired file containing PROMICE data [string]\n",
    "        year: Year to import. If 'all', all the years are imported [int,string]\n",
    "    \n",
    "    OUTPUTS:\n",
    "        promice_data: Dataframe containing PROMICE data for the desired settings [DataFrame]\n",
    "        \n",
    "    '''\n",
    "        \n",
    "    #extract site name\n",
    "    global site\n",
    "    site=file.split('/')[-1].split('_')[0]+'_'+file.split('/')[-1].split('_')[1]\n",
    "    \n",
    "    if site[:3]=='MIT' or site[:3]=='EGP' or site[:3]=='CEN':\n",
    "        site=site.split('_')[0]\n",
    "    \n",
    "    #load data\n",
    "    promice_data=pd.read_csv(file, delim_whitespace=True)\n",
    "    \n",
    "    #set invalid values (-999) to nan \n",
    "    promice_data[promice_data==-999.0]=np.nan\n",
    "    \n",
    "    #only keep selected year(s) if needed\n",
    "    global yr; yr=year\n",
    "    \n",
    "    if year!='all':\n",
    "        promice_data=promice_data[promice_data.Year==year]\n",
    "    elif isinstance(year, list):\n",
    "        promice_data[promice_data.Year.isin(year)]\n",
    "    \n",
    "    if promice_data.empty:\n",
    "        print('ERROR: Selected year not available')\n",
    "        return\n",
    "    \n",
    "    \n",
    "    return promice_data"
   ]
  }
 ],
 "metadata": {
  "kernelspec": {
   "display_name": "Python 3",
   "language": "python",
   "name": "python3"
  },
  "language_info": {
   "codemirror_mode": {
    "name": "ipython",
    "version": 3
   },
   "file_extension": ".py",
   "mimetype": "text/x-python",
   "name": "python",
   "nbconvert_exporter": "python",
   "pygments_lexer": "ipython3",
   "version": "3.7.3"
  }
 },
 "nbformat": 4,
 "nbformat_minor": 2
}
